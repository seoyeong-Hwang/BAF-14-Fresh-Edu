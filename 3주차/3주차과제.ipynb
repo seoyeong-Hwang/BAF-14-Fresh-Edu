{
 "cells": [
  {
   "cell_type": "code",
   "execution_count": 2,
   "metadata": {},
   "outputs": [],
   "source": [
    "#기본 라이브러리 설치\n",
    "import os\n",
    "import pandas as pd\n",
    "import numpy as np\n",
    "import matplotlib.pyplot as plt\n",
    "import seaborn as sns\n",
    "%config InlineBackend.figure_format = 'retina'  #plot내 글씨를 선명하게 해주는 옵션\n",
    "\n",
    "from sklearn.preprocessing import OneHotEncoder\n",
    "from sklearn.preprocessing import OrdinalEncoder\n",
    "from sklearn.model_selection import train_test_split\n",
    "from sklearn.model_selection import KFold\n",
    "from sklearn.preprocessing import StandardScaler\n",
    "from sklearn.preprocessing import MinMaxScaler\n",
    "from sklearn.preprocessing import MaxAbsScaler\n",
    "from sklearn.preprocessing import RobustScaler"
   ]
  },
  {
   "cell_type": "markdown",
   "metadata": {},
   "source": [
    "## 데이터 불러오기\n",
    "- 1차 전처리가 완료된 2주차 과제 파일 불러오기"
   ]
  },
  {
   "cell_type": "code",
   "execution_count": 24,
   "metadata": {},
   "outputs": [
    {
     "data": {
      "text/html": [
       "<div>\n",
       "<style scoped>\n",
       "    .dataframe tbody tr th:only-of-type {\n",
       "        vertical-align: middle;\n",
       "    }\n",
       "\n",
       "    .dataframe tbody tr th {\n",
       "        vertical-align: top;\n",
       "    }\n",
       "\n",
       "    .dataframe thead th {\n",
       "        text-align: right;\n",
       "    }\n",
       "</style>\n",
       "<table border=\"1\" class=\"dataframe\">\n",
       "  <thead>\n",
       "    <tr style=\"text-align: right;\">\n",
       "      <th></th>\n",
       "      <th>Date</th>\n",
       "      <th>Rented Bike Count</th>\n",
       "      <th>Hour</th>\n",
       "      <th>Temperature(°C)</th>\n",
       "      <th>Humidity(%)</th>\n",
       "      <th>Wind speed (m/s)</th>\n",
       "      <th>Visibility (10m)</th>\n",
       "      <th>Dew point temperature(°C)</th>\n",
       "      <th>Solar Radiation (MJ/m2)</th>\n",
       "      <th>Rainfall(mm)</th>\n",
       "      <th>...</th>\n",
       "      <th>Seasons</th>\n",
       "      <th>Holiday</th>\n",
       "      <th>Functioning Day</th>\n",
       "      <th>month</th>\n",
       "      <th>functioning_day_numeric</th>\n",
       "      <th>Holiday_numeric</th>\n",
       "      <th>Visibility Bin</th>\n",
       "      <th>Visibility Sub Bin</th>\n",
       "      <th>Combined Visibility Bin</th>\n",
       "      <th>Wind Speed Bin</th>\n",
       "    </tr>\n",
       "  </thead>\n",
       "  <tbody>\n",
       "    <tr>\n",
       "      <th>0</th>\n",
       "      <td>2017-12-01</td>\n",
       "      <td>254</td>\n",
       "      <td>0</td>\n",
       "      <td>-1.509215</td>\n",
       "      <td>37</td>\n",
       "      <td>2.2</td>\n",
       "      <td>2000</td>\n",
       "      <td>-17.6</td>\n",
       "      <td>-0.662512</td>\n",
       "      <td>0.0</td>\n",
       "      <td>...</td>\n",
       "      <td>Winter</td>\n",
       "      <td>No Holiday</td>\n",
       "      <td>Yes</td>\n",
       "      <td>12</td>\n",
       "      <td>1</td>\n",
       "      <td>0</td>\n",
       "      <td>1989 - 2000</td>\n",
       "      <td>1990 - 2000</td>\n",
       "      <td>1990 - 2000</td>\n",
       "      <td>(1.8, 2.2]</td>\n",
       "    </tr>\n",
       "    <tr>\n",
       "      <th>1</th>\n",
       "      <td>2017-12-01</td>\n",
       "      <td>204</td>\n",
       "      <td>1</td>\n",
       "      <td>-1.533524</td>\n",
       "      <td>38</td>\n",
       "      <td>0.8</td>\n",
       "      <td>2000</td>\n",
       "      <td>-17.6</td>\n",
       "      <td>-0.662512</td>\n",
       "      <td>0.0</td>\n",
       "      <td>...</td>\n",
       "      <td>Winter</td>\n",
       "      <td>No Holiday</td>\n",
       "      <td>Yes</td>\n",
       "      <td>12</td>\n",
       "      <td>1</td>\n",
       "      <td>0</td>\n",
       "      <td>1989 - 2000</td>\n",
       "      <td>1990 - 2000</td>\n",
       "      <td>1990 - 2000</td>\n",
       "      <td>(0.6, 0.9]</td>\n",
       "    </tr>\n",
       "    <tr>\n",
       "      <th>2</th>\n",
       "      <td>2017-12-01</td>\n",
       "      <td>173</td>\n",
       "      <td>2</td>\n",
       "      <td>-1.574039</td>\n",
       "      <td>39</td>\n",
       "      <td>1.0</td>\n",
       "      <td>2000</td>\n",
       "      <td>-17.7</td>\n",
       "      <td>-0.662512</td>\n",
       "      <td>0.0</td>\n",
       "      <td>...</td>\n",
       "      <td>Winter</td>\n",
       "      <td>No Holiday</td>\n",
       "      <td>Yes</td>\n",
       "      <td>12</td>\n",
       "      <td>1</td>\n",
       "      <td>0</td>\n",
       "      <td>1989 - 2000</td>\n",
       "      <td>1990 - 2000</td>\n",
       "      <td>1990 - 2000</td>\n",
       "      <td>(0.9, 1.1]</td>\n",
       "    </tr>\n",
       "    <tr>\n",
       "      <th>3</th>\n",
       "      <td>2017-12-01</td>\n",
       "      <td>107</td>\n",
       "      <td>3</td>\n",
       "      <td>-1.590245</td>\n",
       "      <td>40</td>\n",
       "      <td>0.9</td>\n",
       "      <td>2000</td>\n",
       "      <td>-17.6</td>\n",
       "      <td>-0.662512</td>\n",
       "      <td>0.0</td>\n",
       "      <td>...</td>\n",
       "      <td>Winter</td>\n",
       "      <td>No Holiday</td>\n",
       "      <td>Yes</td>\n",
       "      <td>12</td>\n",
       "      <td>1</td>\n",
       "      <td>0</td>\n",
       "      <td>1989 - 2000</td>\n",
       "      <td>1990 - 2000</td>\n",
       "      <td>1990 - 2000</td>\n",
       "      <td>(0.6, 0.9]</td>\n",
       "    </tr>\n",
       "    <tr>\n",
       "      <th>4</th>\n",
       "      <td>2017-12-01</td>\n",
       "      <td>78</td>\n",
       "      <td>4</td>\n",
       "      <td>-1.574039</td>\n",
       "      <td>36</td>\n",
       "      <td>1.4</td>\n",
       "      <td>2000</td>\n",
       "      <td>-18.6</td>\n",
       "      <td>-0.662512</td>\n",
       "      <td>0.0</td>\n",
       "      <td>...</td>\n",
       "      <td>Winter</td>\n",
       "      <td>No Holiday</td>\n",
       "      <td>Yes</td>\n",
       "      <td>12</td>\n",
       "      <td>1</td>\n",
       "      <td>0</td>\n",
       "      <td>1989 - 2000</td>\n",
       "      <td>1990 - 2000</td>\n",
       "      <td>1990 - 2000</td>\n",
       "      <td>(1.3, 1.6]</td>\n",
       "    </tr>\n",
       "    <tr>\n",
       "      <th>...</th>\n",
       "      <td>...</td>\n",
       "      <td>...</td>\n",
       "      <td>...</td>\n",
       "      <td>...</td>\n",
       "      <td>...</td>\n",
       "      <td>...</td>\n",
       "      <td>...</td>\n",
       "      <td>...</td>\n",
       "      <td>...</td>\n",
       "      <td>...</td>\n",
       "      <td>...</td>\n",
       "      <td>...</td>\n",
       "      <td>...</td>\n",
       "      <td>...</td>\n",
       "      <td>...</td>\n",
       "      <td>...</td>\n",
       "      <td>...</td>\n",
       "      <td>...</td>\n",
       "      <td>...</td>\n",
       "      <td>...</td>\n",
       "      <td>...</td>\n",
       "    </tr>\n",
       "    <tr>\n",
       "      <th>8035</th>\n",
       "      <td>2018-10-31</td>\n",
       "      <td>1507</td>\n",
       "      <td>19</td>\n",
       "      <td>-0.407208</td>\n",
       "      <td>53</td>\n",
       "      <td>1.6</td>\n",
       "      <td>2000</td>\n",
       "      <td>-0.6</td>\n",
       "      <td>-0.662512</td>\n",
       "      <td>0.0</td>\n",
       "      <td>...</td>\n",
       "      <td>Autumn</td>\n",
       "      <td>No Holiday</td>\n",
       "      <td>Yes</td>\n",
       "      <td>10</td>\n",
       "      <td>1</td>\n",
       "      <td>0</td>\n",
       "      <td>1989 - 2000</td>\n",
       "      <td>1990 - 2000</td>\n",
       "      <td>1990 - 2000</td>\n",
       "      <td>(1.3, 1.6]</td>\n",
       "    </tr>\n",
       "    <tr>\n",
       "      <th>8036</th>\n",
       "      <td>2018-10-31</td>\n",
       "      <td>1176</td>\n",
       "      <td>20</td>\n",
       "      <td>-0.472032</td>\n",
       "      <td>59</td>\n",
       "      <td>0.7</td>\n",
       "      <td>2000</td>\n",
       "      <td>0.0</td>\n",
       "      <td>-0.662512</td>\n",
       "      <td>0.0</td>\n",
       "      <td>...</td>\n",
       "      <td>Autumn</td>\n",
       "      <td>No Holiday</td>\n",
       "      <td>Yes</td>\n",
       "      <td>10</td>\n",
       "      <td>1</td>\n",
       "      <td>0</td>\n",
       "      <td>1989 - 2000</td>\n",
       "      <td>1990 - 2000</td>\n",
       "      <td>1990 - 2000</td>\n",
       "      <td>(0.6, 0.9]</td>\n",
       "    </tr>\n",
       "    <tr>\n",
       "      <th>8037</th>\n",
       "      <td>2018-10-31</td>\n",
       "      <td>1069</td>\n",
       "      <td>21</td>\n",
       "      <td>-0.472032</td>\n",
       "      <td>59</td>\n",
       "      <td>3.0</td>\n",
       "      <td>1929</td>\n",
       "      <td>0.0</td>\n",
       "      <td>-0.662512</td>\n",
       "      <td>0.0</td>\n",
       "      <td>...</td>\n",
       "      <td>Autumn</td>\n",
       "      <td>No Holiday</td>\n",
       "      <td>Yes</td>\n",
       "      <td>10</td>\n",
       "      <td>1</td>\n",
       "      <td>0</td>\n",
       "      <td>1908 - 1989</td>\n",
       "      <td>NaN</td>\n",
       "      <td>1908 - 1989</td>\n",
       "      <td>(2.6, 3.2]</td>\n",
       "    </tr>\n",
       "    <tr>\n",
       "      <th>8038</th>\n",
       "      <td>2018-10-31</td>\n",
       "      <td>1088</td>\n",
       "      <td>22</td>\n",
       "      <td>-0.536856</td>\n",
       "      <td>58</td>\n",
       "      <td>2.2</td>\n",
       "      <td>1936</td>\n",
       "      <td>-0.9</td>\n",
       "      <td>-0.662512</td>\n",
       "      <td>0.0</td>\n",
       "      <td>...</td>\n",
       "      <td>Autumn</td>\n",
       "      <td>No Holiday</td>\n",
       "      <td>Yes</td>\n",
       "      <td>10</td>\n",
       "      <td>1</td>\n",
       "      <td>0</td>\n",
       "      <td>1908 - 1989</td>\n",
       "      <td>NaN</td>\n",
       "      <td>1908 - 1989</td>\n",
       "      <td>(1.8, 2.2]</td>\n",
       "    </tr>\n",
       "    <tr>\n",
       "      <th>8039</th>\n",
       "      <td>2018-10-31</td>\n",
       "      <td>798</td>\n",
       "      <td>23</td>\n",
       "      <td>-0.569268</td>\n",
       "      <td>60</td>\n",
       "      <td>1.8</td>\n",
       "      <td>1930</td>\n",
       "      <td>-0.8</td>\n",
       "      <td>-0.662512</td>\n",
       "      <td>0.0</td>\n",
       "      <td>...</td>\n",
       "      <td>Autumn</td>\n",
       "      <td>No Holiday</td>\n",
       "      <td>Yes</td>\n",
       "      <td>10</td>\n",
       "      <td>1</td>\n",
       "      <td>0</td>\n",
       "      <td>1908 - 1989</td>\n",
       "      <td>NaN</td>\n",
       "      <td>1908 - 1989</td>\n",
       "      <td>(1.6, 1.8]</td>\n",
       "    </tr>\n",
       "  </tbody>\n",
       "</table>\n",
       "<p>8040 rows × 21 columns</p>\n",
       "</div>"
      ],
      "text/plain": [
       "            Date  Rented Bike Count  Hour  Temperature(°C)  Humidity(%)  \\\n",
       "0     2017-12-01                254     0        -1.509215           37   \n",
       "1     2017-12-01                204     1        -1.533524           38   \n",
       "2     2017-12-01                173     2        -1.574039           39   \n",
       "3     2017-12-01                107     3        -1.590245           40   \n",
       "4     2017-12-01                 78     4        -1.574039           36   \n",
       "...          ...                ...   ...              ...          ...   \n",
       "8035  2018-10-31               1507    19        -0.407208           53   \n",
       "8036  2018-10-31               1176    20        -0.472032           59   \n",
       "8037  2018-10-31               1069    21        -0.472032           59   \n",
       "8038  2018-10-31               1088    22        -0.536856           58   \n",
       "8039  2018-10-31                798    23        -0.569268           60   \n",
       "\n",
       "      Wind speed (m/s)  Visibility (10m)  Dew point temperature(°C)  \\\n",
       "0                  2.2              2000                      -17.6   \n",
       "1                  0.8              2000                      -17.6   \n",
       "2                  1.0              2000                      -17.7   \n",
       "3                  0.9              2000                      -17.6   \n",
       "4                  1.4              2000                      -18.6   \n",
       "...                ...               ...                        ...   \n",
       "8035               1.6              2000                       -0.6   \n",
       "8036               0.7              2000                        0.0   \n",
       "8037               3.0              1929                        0.0   \n",
       "8038               2.2              1936                       -0.9   \n",
       "8039               1.8              1930                       -0.8   \n",
       "\n",
       "      Solar Radiation (MJ/m2)  Rainfall(mm)  ...  Seasons     Holiday  \\\n",
       "0                   -0.662512           0.0  ...   Winter  No Holiday   \n",
       "1                   -0.662512           0.0  ...   Winter  No Holiday   \n",
       "2                   -0.662512           0.0  ...   Winter  No Holiday   \n",
       "3                   -0.662512           0.0  ...   Winter  No Holiday   \n",
       "4                   -0.662512           0.0  ...   Winter  No Holiday   \n",
       "...                       ...           ...  ...      ...         ...   \n",
       "8035                -0.662512           0.0  ...   Autumn  No Holiday   \n",
       "8036                -0.662512           0.0  ...   Autumn  No Holiday   \n",
       "8037                -0.662512           0.0  ...   Autumn  No Holiday   \n",
       "8038                -0.662512           0.0  ...   Autumn  No Holiday   \n",
       "8039                -0.662512           0.0  ...   Autumn  No Holiday   \n",
       "\n",
       "     Functioning Day month  functioning_day_numeric  Holiday_numeric  \\\n",
       "0                Yes    12                        1                0   \n",
       "1                Yes    12                        1                0   \n",
       "2                Yes    12                        1                0   \n",
       "3                Yes    12                        1                0   \n",
       "4                Yes    12                        1                0   \n",
       "...              ...   ...                      ...              ...   \n",
       "8035             Yes    10                        1                0   \n",
       "8036             Yes    10                        1                0   \n",
       "8037             Yes    10                        1                0   \n",
       "8038             Yes    10                        1                0   \n",
       "8039             Yes    10                        1                0   \n",
       "\n",
       "      Visibility Bin Visibility Sub Bin Combined Visibility Bin Wind Speed Bin  \n",
       "0        1989 - 2000        1990 - 2000             1990 - 2000     (1.8, 2.2]  \n",
       "1        1989 - 2000        1990 - 2000             1990 - 2000     (0.6, 0.9]  \n",
       "2        1989 - 2000        1990 - 2000             1990 - 2000     (0.9, 1.1]  \n",
       "3        1989 - 2000        1990 - 2000             1990 - 2000     (0.6, 0.9]  \n",
       "4        1989 - 2000        1990 - 2000             1990 - 2000     (1.3, 1.6]  \n",
       "...              ...                ...                     ...            ...  \n",
       "8035     1989 - 2000        1990 - 2000             1990 - 2000     (1.3, 1.6]  \n",
       "8036     1989 - 2000        1990 - 2000             1990 - 2000     (0.6, 0.9]  \n",
       "8037     1908 - 1989                NaN             1908 - 1989     (2.6, 3.2]  \n",
       "8038     1908 - 1989                NaN             1908 - 1989     (1.8, 2.2]  \n",
       "8039     1908 - 1989                NaN             1908 - 1989     (1.6, 1.8]  \n",
       "\n",
       "[8040 rows x 21 columns]"
      ]
     },
     "execution_count": 24,
     "metadata": {},
     "output_type": "execute_result"
    }
   ],
   "source": [
    "data = pd.read_csv(\"modified_train.csv\")\n",
    "data"
   ]
  },
  {
   "cell_type": "code",
   "execution_count": 25,
   "metadata": {},
   "outputs": [
    {
     "name": "stdout",
     "output_type": "stream",
     "text": [
      "<class 'pandas.core.frame.DataFrame'>\n",
      "RangeIndex: 8040 entries, 0 to 8039\n",
      "Data columns (total 21 columns):\n",
      " #   Column                     Non-Null Count  Dtype  \n",
      "---  ------                     --------------  -----  \n",
      " 0   Date                       8040 non-null   object \n",
      " 1   Rented Bike Count          8040 non-null   int64  \n",
      " 2   Hour                       8040 non-null   int64  \n",
      " 3   Temperature(°C)            8040 non-null   float64\n",
      " 4   Humidity(%)                8040 non-null   int64  \n",
      " 5   Wind speed (m/s)           8040 non-null   float64\n",
      " 6   Visibility (10m)           8040 non-null   int64  \n",
      " 7   Dew point temperature(°C)  8040 non-null   float64\n",
      " 8   Solar Radiation (MJ/m2)    8040 non-null   float64\n",
      " 9   Rainfall(mm)               8040 non-null   float64\n",
      " 10  Snowfall (cm)              8040 non-null   float64\n",
      " 11  Seasons                    8040 non-null   object \n",
      " 12  Holiday                    8040 non-null   object \n",
      " 13  Functioning Day            8040 non-null   object \n",
      " 14  month                      8040 non-null   int64  \n",
      " 15  functioning_day_numeric    8040 non-null   int64  \n",
      " 16  Holiday_numeric            8040 non-null   int64  \n",
      " 17  Visibility Bin             8040 non-null   object \n",
      " 18  Visibility Sub Bin         2394 non-null   object \n",
      " 19  Combined Visibility Bin    8040 non-null   object \n",
      " 20  Wind Speed Bin             8040 non-null   object \n",
      "dtypes: float64(6), int64(7), object(8)\n",
      "memory usage: 1.3+ MB\n"
     ]
    }
   ],
   "source": [
    "data.info()"
   ]
  },
  {
   "cell_type": "markdown",
   "metadata": {},
   "source": [
    "- 명목형 변수 : Seasons, Holiday, Functioning Day\n",
    "- 순서형 변수 : 없음\n",
    "\n",
    "\n",
    "- 명목형 변수인 Holiday, Functioning Day는 1차 전처리때 수치형으로 변환한 _numeric 변수가 있는 상태\n",
    "    - Holiday-{'Holiday' : 1, 'No Holiday' : 0}\n",
    "    - Functioning Day-{'Yes': 1, 'No': 0}"
   ]
  },
  {
   "cell_type": "markdown",
   "metadata": {},
   "source": [
    "#### OneHotEncoder이용하여 명목형 변수 수치화"
   ]
  },
  {
   "cell_type": "code",
   "execution_count": 26,
   "metadata": {},
   "outputs": [],
   "source": [
    "data_v1 = data.copy()"
   ]
  },
  {
   "cell_type": "code",
   "execution_count": 27,
   "metadata": {},
   "outputs": [
    {
     "data": {
      "text/plain": [
       "array([[0., 0., 0., 1.],\n",
       "       [0., 0., 0., 1.],\n",
       "       [0., 0., 0., 1.],\n",
       "       ...,\n",
       "       [1., 0., 0., 0.],\n",
       "       [1., 0., 0., 0.],\n",
       "       [1., 0., 0., 0.]])"
      ]
     },
     "execution_count": 27,
     "metadata": {},
     "output_type": "execute_result"
    }
   ],
   "source": [
    "\n",
    "ohe = OneHotEncoder(sparse_output=False) #sparse_output=False: 희소행렬로 반환 X\n",
    "\n",
    "result_ohe = ohe.fit_transform(data_v1[[\"Seasons\"]])\n",
    "result_ohe"
   ]
  },
  {
   "cell_type": "code",
   "execution_count": 28,
   "metadata": {},
   "outputs": [
    {
     "data": {
      "text/plain": [
       "[array(['Autumn', 'Spring', 'Summer', 'Winter'], dtype=object)]"
      ]
     },
     "execution_count": 28,
     "metadata": {},
     "output_type": "execute_result"
    }
   ],
   "source": [
    "#각 변수들의 카테고리가 학습된 것을 확인\n",
    "ohe.categories_"
   ]
  },
  {
   "cell_type": "code",
   "execution_count": 29,
   "metadata": {},
   "outputs": [
    {
     "data": {
      "text/html": [
       "<div>\n",
       "<style scoped>\n",
       "    .dataframe tbody tr th:only-of-type {\n",
       "        vertical-align: middle;\n",
       "    }\n",
       "\n",
       "    .dataframe tbody tr th {\n",
       "        vertical-align: top;\n",
       "    }\n",
       "\n",
       "    .dataframe thead th {\n",
       "        text-align: right;\n",
       "    }\n",
       "</style>\n",
       "<table border=\"1\" class=\"dataframe\">\n",
       "  <thead>\n",
       "    <tr style=\"text-align: right;\">\n",
       "      <th></th>\n",
       "      <th>Seasons_Autumn</th>\n",
       "      <th>Seasons_Spring</th>\n",
       "      <th>Seasons_Summer</th>\n",
       "      <th>Seasons_Winter</th>\n",
       "    </tr>\n",
       "  </thead>\n",
       "  <tbody>\n",
       "    <tr>\n",
       "      <th>0</th>\n",
       "      <td>0.0</td>\n",
       "      <td>0.0</td>\n",
       "      <td>0.0</td>\n",
       "      <td>1.0</td>\n",
       "    </tr>\n",
       "    <tr>\n",
       "      <th>1</th>\n",
       "      <td>0.0</td>\n",
       "      <td>0.0</td>\n",
       "      <td>0.0</td>\n",
       "      <td>1.0</td>\n",
       "    </tr>\n",
       "    <tr>\n",
       "      <th>2</th>\n",
       "      <td>0.0</td>\n",
       "      <td>0.0</td>\n",
       "      <td>0.0</td>\n",
       "      <td>1.0</td>\n",
       "    </tr>\n",
       "    <tr>\n",
       "      <th>3</th>\n",
       "      <td>0.0</td>\n",
       "      <td>0.0</td>\n",
       "      <td>0.0</td>\n",
       "      <td>1.0</td>\n",
       "    </tr>\n",
       "    <tr>\n",
       "      <th>4</th>\n",
       "      <td>0.0</td>\n",
       "      <td>0.0</td>\n",
       "      <td>0.0</td>\n",
       "      <td>1.0</td>\n",
       "    </tr>\n",
       "    <tr>\n",
       "      <th>...</th>\n",
       "      <td>...</td>\n",
       "      <td>...</td>\n",
       "      <td>...</td>\n",
       "      <td>...</td>\n",
       "    </tr>\n",
       "    <tr>\n",
       "      <th>8035</th>\n",
       "      <td>1.0</td>\n",
       "      <td>0.0</td>\n",
       "      <td>0.0</td>\n",
       "      <td>0.0</td>\n",
       "    </tr>\n",
       "    <tr>\n",
       "      <th>8036</th>\n",
       "      <td>1.0</td>\n",
       "      <td>0.0</td>\n",
       "      <td>0.0</td>\n",
       "      <td>0.0</td>\n",
       "    </tr>\n",
       "    <tr>\n",
       "      <th>8037</th>\n",
       "      <td>1.0</td>\n",
       "      <td>0.0</td>\n",
       "      <td>0.0</td>\n",
       "      <td>0.0</td>\n",
       "    </tr>\n",
       "    <tr>\n",
       "      <th>8038</th>\n",
       "      <td>1.0</td>\n",
       "      <td>0.0</td>\n",
       "      <td>0.0</td>\n",
       "      <td>0.0</td>\n",
       "    </tr>\n",
       "    <tr>\n",
       "      <th>8039</th>\n",
       "      <td>1.0</td>\n",
       "      <td>0.0</td>\n",
       "      <td>0.0</td>\n",
       "      <td>0.0</td>\n",
       "    </tr>\n",
       "  </tbody>\n",
       "</table>\n",
       "<p>8040 rows × 4 columns</p>\n",
       "</div>"
      ],
      "text/plain": [
       "      Seasons_Autumn  Seasons_Spring  Seasons_Summer  Seasons_Winter\n",
       "0                0.0             0.0             0.0             1.0\n",
       "1                0.0             0.0             0.0             1.0\n",
       "2                0.0             0.0             0.0             1.0\n",
       "3                0.0             0.0             0.0             1.0\n",
       "4                0.0             0.0             0.0             1.0\n",
       "...              ...             ...             ...             ...\n",
       "8035             1.0             0.0             0.0             0.0\n",
       "8036             1.0             0.0             0.0             0.0\n",
       "8037             1.0             0.0             0.0             0.0\n",
       "8038             1.0             0.0             0.0             0.0\n",
       "8039             1.0             0.0             0.0             0.0\n",
       "\n",
       "[8040 rows x 4 columns]"
      ]
     },
     "execution_count": 29,
     "metadata": {},
     "output_type": "execute_result"
    }
   ],
   "source": [
    "#result_ohe는 numpy.array이므로 데이터프레임으로 변환\n",
    "df_ohe = pd.DataFrame(result_ohe, columns=ohe.get_feature_names_out([\"Seasons\"]))\n",
    "df_ohe"
   ]
  },
  {
   "cell_type": "markdown",
   "metadata": {},
   "source": [
    "- 하나의 칼럼을 제거하여 rank를 하나 줄이는 것도 가능하다.\n",
    "- 1차 전처리시 11월의 데이터가 하나도 없었으므로 Autumn 칼럼을 제거한다."
   ]
  },
  {
   "cell_type": "code",
   "execution_count": 30,
   "metadata": {},
   "outputs": [
    {
     "data": {
      "text/html": [
       "<div>\n",
       "<style scoped>\n",
       "    .dataframe tbody tr th:only-of-type {\n",
       "        vertical-align: middle;\n",
       "    }\n",
       "\n",
       "    .dataframe tbody tr th {\n",
       "        vertical-align: top;\n",
       "    }\n",
       "\n",
       "    .dataframe thead th {\n",
       "        text-align: right;\n",
       "    }\n",
       "</style>\n",
       "<table border=\"1\" class=\"dataframe\">\n",
       "  <thead>\n",
       "    <tr style=\"text-align: right;\">\n",
       "      <th></th>\n",
       "      <th>Seasons_Spring</th>\n",
       "      <th>Seasons_Summer</th>\n",
       "      <th>Seasons_Winter</th>\n",
       "    </tr>\n",
       "  </thead>\n",
       "  <tbody>\n",
       "    <tr>\n",
       "      <th>0</th>\n",
       "      <td>0.0</td>\n",
       "      <td>0.0</td>\n",
       "      <td>1.0</td>\n",
       "    </tr>\n",
       "    <tr>\n",
       "      <th>1</th>\n",
       "      <td>0.0</td>\n",
       "      <td>0.0</td>\n",
       "      <td>1.0</td>\n",
       "    </tr>\n",
       "    <tr>\n",
       "      <th>2</th>\n",
       "      <td>0.0</td>\n",
       "      <td>0.0</td>\n",
       "      <td>1.0</td>\n",
       "    </tr>\n",
       "    <tr>\n",
       "      <th>3</th>\n",
       "      <td>0.0</td>\n",
       "      <td>0.0</td>\n",
       "      <td>1.0</td>\n",
       "    </tr>\n",
       "    <tr>\n",
       "      <th>4</th>\n",
       "      <td>0.0</td>\n",
       "      <td>0.0</td>\n",
       "      <td>1.0</td>\n",
       "    </tr>\n",
       "    <tr>\n",
       "      <th>...</th>\n",
       "      <td>...</td>\n",
       "      <td>...</td>\n",
       "      <td>...</td>\n",
       "    </tr>\n",
       "    <tr>\n",
       "      <th>8035</th>\n",
       "      <td>0.0</td>\n",
       "      <td>0.0</td>\n",
       "      <td>0.0</td>\n",
       "    </tr>\n",
       "    <tr>\n",
       "      <th>8036</th>\n",
       "      <td>0.0</td>\n",
       "      <td>0.0</td>\n",
       "      <td>0.0</td>\n",
       "    </tr>\n",
       "    <tr>\n",
       "      <th>8037</th>\n",
       "      <td>0.0</td>\n",
       "      <td>0.0</td>\n",
       "      <td>0.0</td>\n",
       "    </tr>\n",
       "    <tr>\n",
       "      <th>8038</th>\n",
       "      <td>0.0</td>\n",
       "      <td>0.0</td>\n",
       "      <td>0.0</td>\n",
       "    </tr>\n",
       "    <tr>\n",
       "      <th>8039</th>\n",
       "      <td>0.0</td>\n",
       "      <td>0.0</td>\n",
       "      <td>0.0</td>\n",
       "    </tr>\n",
       "  </tbody>\n",
       "</table>\n",
       "<p>8040 rows × 3 columns</p>\n",
       "</div>"
      ],
      "text/plain": [
       "      Seasons_Spring  Seasons_Summer  Seasons_Winter\n",
       "0                0.0             0.0             1.0\n",
       "1                0.0             0.0             1.0\n",
       "2                0.0             0.0             1.0\n",
       "3                0.0             0.0             1.0\n",
       "4                0.0             0.0             1.0\n",
       "...              ...             ...             ...\n",
       "8035             0.0             0.0             0.0\n",
       "8036             0.0             0.0             0.0\n",
       "8037             0.0             0.0             0.0\n",
       "8038             0.0             0.0             0.0\n",
       "8039             0.0             0.0             0.0\n",
       "\n",
       "[8040 rows x 3 columns]"
      ]
     },
     "execution_count": 30,
     "metadata": {},
     "output_type": "execute_result"
    }
   ],
   "source": [
    "df_ohe=df_ohe.drop(columns=[\"Seasons_Autumn\"])\n",
    "df_ohe"
   ]
  },
  {
   "cell_type": "code",
   "execution_count": 31,
   "metadata": {},
   "outputs": [],
   "source": [
    "data_v1 = pd.concat([data_v1.reset_index(drop=True), df_ohe.reset_index(drop=True)], axis=1)"
   ]
  },
  {
   "cell_type": "markdown",
   "metadata": {},
   "source": [
    "## 변수 선택"
   ]
  },
  {
   "cell_type": "code",
   "execution_count": 32,
   "metadata": {},
   "outputs": [
    {
     "name": "stdout",
     "output_type": "stream",
     "text": [
      "<class 'pandas.core.frame.DataFrame'>\n",
      "RangeIndex: 8040 entries, 0 to 8039\n",
      "Data columns (total 24 columns):\n",
      " #   Column                     Non-Null Count  Dtype  \n",
      "---  ------                     --------------  -----  \n",
      " 0   Date                       8040 non-null   object \n",
      " 1   Rented Bike Count          8040 non-null   int64  \n",
      " 2   Hour                       8040 non-null   int64  \n",
      " 3   Temperature(°C)            8040 non-null   float64\n",
      " 4   Humidity(%)                8040 non-null   int64  \n",
      " 5   Wind speed (m/s)           8040 non-null   float64\n",
      " 6   Visibility (10m)           8040 non-null   int64  \n",
      " 7   Dew point temperature(°C)  8040 non-null   float64\n",
      " 8   Solar Radiation (MJ/m2)    8040 non-null   float64\n",
      " 9   Rainfall(mm)               8040 non-null   float64\n",
      " 10  Snowfall (cm)              8040 non-null   float64\n",
      " 11  Seasons                    8040 non-null   object \n",
      " 12  Holiday                    8040 non-null   object \n",
      " 13  Functioning Day            8040 non-null   object \n",
      " 14  month                      8040 non-null   int64  \n",
      " 15  functioning_day_numeric    8040 non-null   int64  \n",
      " 16  Holiday_numeric            8040 non-null   int64  \n",
      " 17  Visibility Bin             8040 non-null   object \n",
      " 18  Visibility Sub Bin         2394 non-null   object \n",
      " 19  Combined Visibility Bin    8040 non-null   object \n",
      " 20  Wind Speed Bin             8040 non-null   object \n",
      " 21  Seasons_Spring             8040 non-null   float64\n",
      " 22  Seasons_Summer             8040 non-null   float64\n",
      " 23  Seasons_Winter             8040 non-null   float64\n",
      "dtypes: float64(9), int64(7), object(8)\n",
      "memory usage: 1.5+ MB\n"
     ]
    }
   ],
   "source": [
    "data_v1.info()"
   ]
  },
  {
   "cell_type": "code",
   "execution_count": 37,
   "metadata": {},
   "outputs": [
    {
     "name": "stdout",
     "output_type": "stream",
     "text": [
      "<class 'pandas.core.frame.DataFrame'>\n",
      "RangeIndex: 8040 entries, 0 to 8039\n",
      "Data columns (total 17 columns):\n",
      " #   Column                     Non-Null Count  Dtype  \n",
      "---  ------                     --------------  -----  \n",
      " 0   Rented Bike Count          8040 non-null   int64  \n",
      " 1   Hour                       8040 non-null   int64  \n",
      " 2   Temperature(°C)            8040 non-null   float64\n",
      " 3   Humidity(%)                8040 non-null   int64  \n",
      " 4   Wind speed (m/s)           8040 non-null   float64\n",
      " 5   Visibility (10m)           8040 non-null   int64  \n",
      " 6   Dew point temperature(°C)  8040 non-null   float64\n",
      " 7   Solar Radiation (MJ/m2)    8040 non-null   float64\n",
      " 8   Rainfall(mm)               8040 non-null   float64\n",
      " 9   Snowfall (cm)              8040 non-null   float64\n",
      " 10  month                      8040 non-null   int64  \n",
      " 11  functioning_day_numeric    8040 non-null   int64  \n",
      " 12  Holiday_numeric            8040 non-null   int64  \n",
      " 13  Wind Speed Bin             8040 non-null   object \n",
      " 14  Seasons_Spring             8040 non-null   float64\n",
      " 15  Seasons_Summer             8040 non-null   float64\n",
      " 16  Seasons_Winter             8040 non-null   float64\n",
      "dtypes: float64(9), int64(7), object(1)\n",
      "memory usage: 1.0+ MB\n"
     ]
    }
   ],
   "source": [
    "#필요없는 칼럼 제거\n",
    "columns_to_drop = ['Date','Seasons','Holiday', 'Functioning Day', 'Visibility Bin','Visibility Sub Bin','Combined Visibility Bin']  \n",
    "data_final = data_v1.drop(columns=columns_to_drop)\n",
    "data_final.info()"
   ]
  },
  {
   "cell_type": "markdown",
   "metadata": {},
   "source": [
    "## train, valid 데이터 셋 분리"
   ]
  },
  {
   "cell_type": "code",
   "execution_count": 35,
   "metadata": {},
   "outputs": [],
   "source": [
    "#X(독립변수), y(종속변수) 분리\n",
    "X = data_final.drop(\"Rented Bike Count\", axis=1)\n",
    "y = data_final[\"Rented Bike Count\"]"
   ]
  },
  {
   "cell_type": "markdown",
   "metadata": {},
   "source": [
    "- 각 클래스에 최소 2개이상의 데이터 포인트가 존재해야한다는 오류 발생해서 해결하는 코드"
   ]
  },
  {
   "cell_type": "code",
   "execution_count": 45,
   "metadata": {},
   "outputs": [
    {
     "name": "stdout",
     "output_type": "stream",
     "text": [
      "Class distribution before adjustment:\n",
      "Wind Speed Bin\n",
      "(0.6, 0.9]       1002\n",
      "(1.3, 1.6]        994\n",
      "(-0.001, 0.6]     963\n",
      "(1.8, 2.2]        856\n",
      "(3.2, 7.4]        802\n",
      "(2.6, 3.2]        758\n",
      "(2.2, 2.6]        730\n",
      "(0.9, 1.1]        712\n",
      "(1.1, 1.3]        635\n",
      "(1.6, 1.8]        588\n",
      "Name: count, dtype: int64\n"
     ]
    }
   ],
   "source": [
    "# 'Wind Speed Bin' 칼럼의 클래스별 데이터 개수 확인\n",
    "class_counts = data_final['Wind Speed Bin'].value_counts()\n",
    "print(\"Class distribution before adjustment:\")\n",
    "print(class_counts)"
   ]
  },
  {
   "cell_type": "code",
   "execution_count": 46,
   "metadata": {},
   "outputs": [],
   "source": [
    "# 각 클래스에 최소 2개 이상의 데이터 포인트가 존재하도록\n",
    "classes_to_keep = class_counts[class_counts >= 2].index\n",
    "df_filtered = data_final[data_final['Wind Speed Bin'].isin(classes_to_keep)]"
   ]
  },
  {
   "cell_type": "code",
   "execution_count": 47,
   "metadata": {},
   "outputs": [
    {
     "name": "stdout",
     "output_type": "stream",
     "text": [
      "Class distribution after adjustment:\n",
      "Wind Speed Bin\n",
      "(0.6, 0.9]       1002\n",
      "(1.3, 1.6]        994\n",
      "(-0.001, 0.6]     963\n",
      "(1.8, 2.2]        856\n",
      "(3.2, 7.4]        802\n",
      "(2.6, 3.2]        758\n",
      "(2.2, 2.6]        730\n",
      "(0.9, 1.1]        712\n",
      "(1.1, 1.3]        635\n",
      "(1.6, 1.8]        588\n",
      "Name: count, dtype: int64\n"
     ]
    }
   ],
   "source": [
    "# 조정 이후 분포 확인\n",
    "class_counts_after = df_filtered['Wind Speed Bin'].value_counts()\n",
    "print(\"Class distribution after adjustment:\")\n",
    "print(class_counts_after)"
   ]
  },
  {
   "cell_type": "code",
   "execution_count": 50,
   "metadata": {},
   "outputs": [],
   "source": [
    "# 필터링된 데이터프레임에서 X, y 분리\n",
    "X = df_filtered.drop(columns=['Wind Speed Bin'])  # Assuming 'Wind Speed Bin' is the target column\n",
    "y = df_filtered['Wind Speed Bin']"
   ]
  },
  {
   "cell_type": "code",
   "execution_count": 51,
   "metadata": {},
   "outputs": [
    {
     "name": "stdout",
     "output_type": "stream",
     "text": [
      "(6432, 16) (1608, 16) (6432,) (1608,)\n"
     ]
    }
   ],
   "source": [
    "#train과 valid 셋 분리\n",
    "#분류 문제에서 'stratify=타겟변수' 옵션은 중요함\n",
    "\n",
    "X_train, X_val, y_train, y_val = train_test_split(X, y, train_size=0.8, test_size=0.2, stratify=y, random_state=100)\n",
    "print(X_train.shape, X_val.shape, y_train.shape, y_val.shape)"
   ]
  },
  {
   "cell_type": "markdown",
   "metadata": {},
   "source": [
    "## 변수 스케일링"
   ]
  },
  {
   "cell_type": "markdown",
   "metadata": {},
   "source": [
    "- Random forest는 변수 스케일링에 크게 영향을 받거나 좌우되지 않는다.\n",
    "- 대부분의 경우, 모델 성능에 맞추어 스케일러를 선택한다.\n",
    "- 따라서 모든 스케일러를 돌려보았다!"
   ]
  },
  {
   "cell_type": "markdown",
   "metadata": {},
   "source": [
    "### Standard Scaler"
   ]
  },
  {
   "cell_type": "code",
   "execution_count": 52,
   "metadata": {},
   "outputs": [
    {
     "name": "stdout",
     "output_type": "stream",
     "text": [
      "<train 셋>\n",
      "평균: 1.9884591485823698e-17\n",
      "분산: 0.9999999999999999\n",
      "<valid 셋>\n",
      "평균: -0.009688451739283396\n",
      "분산: 1.0313832858318157\n"
     ]
    }
   ],
   "source": [
    "#객체 생성\n",
    "ss = StandardScaler()\n",
    "\n",
    "#학습 및 변환\n",
    "X_train_ss = ss.fit_transform(X_train)\n",
    "X_val_ss = ss.transform(X_val)\n",
    "#X_test_ss = ss.transform(X_test) #test셋이 있는 경우\n",
    "\n",
    "print(\"<train 셋>\")\n",
    "print(f'평균: {X_train_ss.mean()}\\n분산: {X_train_ss.std()}')\n",
    "print(\"<valid 셋>\")\n",
    "print(f'평균: {X_val_ss.mean()}\\n분산: {X_val_ss.std()}')"
   ]
  },
  {
   "cell_type": "markdown",
   "metadata": {},
   "source": [
    "### MinMax Scaler"
   ]
  },
  {
   "cell_type": "code",
   "execution_count": 53,
   "metadata": {},
   "outputs": [
    {
     "name": "stdout",
     "output_type": "stream",
     "text": [
      "<train 셋>\n",
      "최대: 1.0\n",
      "최소: 0.0\n",
      "<valid 셋>\n",
      "최대: 1.1864406779661016\n",
      "최소: -0.0017452006980802626\n"
     ]
    }
   ],
   "source": [
    "#객체 생성\n",
    "mms = MinMaxScaler()\n",
    "\n",
    "#학습 및 변환\n",
    "X_train_mms = mms.fit_transform(X_train)\n",
    "X_val_mms = mms.transform(X_val)\n",
    "#X_test_mms = mms.transform(X_test) #test셋이 있는 경우\n",
    "\n",
    "print(\"<train 셋>\")\n",
    "print(f'최대: {X_train_mms.max()}\\n최소: {X_train_mms.min()}')\n",
    "print(\"<valid 셋>\")\n",
    "print(f'최대: {X_val_mms.max()}\\n최소: {X_val_mms.min()}')"
   ]
  },
  {
   "cell_type": "markdown",
   "metadata": {},
   "source": [
    "### MaxAbs Scaler"
   ]
  },
  {
   "cell_type": "code",
   "execution_count": 54,
   "metadata": {},
   "outputs": [
    {
     "name": "stdout",
     "output_type": "stream",
     "text": [
      "<train 셋>\n",
      "최대: 1.0\n",
      "최소: -1.0\n",
      "<valid 셋>\n",
      "최대: 1.1864406779661016\n",
      "최소: -1.0032786885245901\n"
     ]
    }
   ],
   "source": [
    "#객체 생성\n",
    "mas = MaxAbsScaler()\n",
    "\n",
    "#학습 및 변환\n",
    "X_train_mas = mas.fit_transform(X_train)\n",
    "X_val_mas = mas.transform(X_val)\n",
    "#X_test_mas = mas.transform(X_test) #test셋이 있는 경우\n",
    "\n",
    "print(\"<train 셋>\")\n",
    "print(f'최대: {X_train_mas.max()}\\n최소: {X_train_mas.min()}')\n",
    "print(\"<valid 셋>\")\n",
    "print(f'최대: {X_val_mas.max()}\\n최소: {X_val_mas.min()}')"
   ]
  },
  {
   "cell_type": "markdown",
   "metadata": {},
   "source": [
    "### Robust Scaler"
   ]
  },
  {
   "cell_type": "code",
   "execution_count": 55,
   "metadata": {},
   "outputs": [
    {
     "name": "stdout",
     "output_type": "stream",
     "text": [
      "<train 셋>\n",
      "평균: 0.10218105614307083\n",
      "분산: 0.6449429712101502\n",
      "<valid 셋>\n",
      "평균: 0.09772702321714065\n",
      "분산: 0.7048939473262906\n"
     ]
    }
   ],
   "source": [
    "#객체 생성\n",
    "rs = RobustScaler()\n",
    "\n",
    "#학습 및 변환\n",
    "X_train_rs = rs.fit_transform(X_train)\n",
    "X_val_rs = rs.transform(X_val)\n",
    "#X_test_rs = rs.transform(X_test) #test셋이 있는 경우\n",
    "\n",
    "print(\"<train 셋>\")\n",
    "print(f'평균: {X_train_rs.mean()}\\n분산: {X_train_rs.std()}')\n",
    "print(\"<valid 셋>\")\n",
    "print(f'평균: {X_val_rs.mean()}\\n분산: {X_val_rs.std()}')"
   ]
  }
 ],
 "metadata": {
  "kernelspec": {
   "display_name": ".venv",
   "language": "python",
   "name": "python3"
  },
  "language_info": {
   "codemirror_mode": {
    "name": "ipython",
    "version": 3
   },
   "file_extension": ".py",
   "mimetype": "text/x-python",
   "name": "python",
   "nbconvert_exporter": "python",
   "pygments_lexer": "ipython3",
   "version": "3.12.3"
  }
 },
 "nbformat": 4,
 "nbformat_minor": 2
}
